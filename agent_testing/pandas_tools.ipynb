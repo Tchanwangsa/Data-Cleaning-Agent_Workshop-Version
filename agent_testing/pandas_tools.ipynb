{
 "cells": [
  {
   "cell_type": "code",
   "execution_count": 12,
   "id": "36fe12c8",
   "metadata": {},
   "outputs": [],
   "source": [
    "from langchain_core.tools import tool\n",
    "import pandas as pd\n",
    "import numpy as np\n",
    "import json"
   ]
  },
  {
   "cell_type": "code",
   "execution_count": 15,
   "id": "0ab1191c",
   "metadata": {},
   "outputs": [],
   "source": [
    "@tool\n",
    "def get_dataframe_info() -> str:\n",
    "    \"\"\"Get basic information about the DataFrame including shape, columns, and data types.\"\"\"\n",
    "    info = {\n",
    "        \"shape\": df.shape,\n",
    "        \"columns\": list(df.columns),\n",
    "        \"dtypes\": {col: str(dtype) for col, dtype in df.dtypes.items()},\n",
    "        \"memory_usage\": f\"{df.memory_usage(deep=True).sum()} bytes\"\n",
    "    }\n",
    "    return json.dumps(info, indent=2)\n",
    "\n",
    "@tool\n",
    "def get_column_stats(column_name: str) -> str:\n",
    "    \"\"\"Get statistical summary for a specific column.\"\"\"\n",
    "    if column_name not in df.columns:\n",
    "        return f\"Column '{column_name}' not found. Available columns: {list(df.columns)}\"\n",
    "    \n",
    "    col = df[column_name]\n",
    "    \n",
    "    if col.dtype in ['int64', 'float64']:\n",
    "        stats = {\n",
    "            \"count\": col.count(),\n",
    "            \"mean\": col.mean(),\n",
    "            \"std\": col.std(),\n",
    "            \"min\": col.min(),\n",
    "            \"25%\": col.quantile(0.25),\n",
    "            \"50%\": col.median(),\n",
    "            \"75%\": col.quantile(0.75),\n",
    "            \"max\": col.max()\n",
    "        }\n",
    "    else:\n",
    "        stats = {\n",
    "            \"count\": col.count(),\n",
    "            \"unique\": col.nunique(),\n",
    "            \"top\": col.mode().iloc[0] if not col.mode().empty else \"N/A\",\n",
    "            \"freq\": col.value_counts().iloc[0] if len(col.value_counts()) > 0 else 0\n",
    "        }\n",
    "    \n",
    "    return json.dumps(stats, indent=2)\n",
    "\n",
    "@tool\n",
    "def get_missing_values() -> str:\n",
    "    \"\"\"Check for missing values in the DataFrame.\"\"\"\n",
    "    missing = df.isnull().sum()\n",
    "    missing_dict = {col: int(count) for col, count in missing.items()}\n",
    "    total_missing = missing.sum()\n",
    "    \n",
    "    return json.dumps({\n",
    "        \"total_missing_values\": int(total_missing),\n",
    "        \"missing_by_column\": missing_dict,\n",
    "        \"percentage_missing\": {col: round((count/len(df))*100, 2) for col, count in missing_dict.items()}\n",
    "    }, indent=2)"
   ]
  },
  {
   "cell_type": "code",
   "execution_count": 16,
   "id": "43c9fb56",
   "metadata": {},
   "outputs": [],
   "source": [
    "tools = [get_dataframe_info, get_column_stats, get_missing_values]"
   ]
  }
 ],
 "metadata": {
  "kernelspec": {
   "display_name": "data-cleaning-agent",
   "language": "python",
   "name": "python3"
  },
  "language_info": {
   "codemirror_mode": {
    "name": "ipython",
    "version": 3
   },
   "file_extension": ".py",
   "mimetype": "text/x-python",
   "name": "python",
   "nbconvert_exporter": "python",
   "pygments_lexer": "ipython3",
   "version": "3.11.13"
  }
 },
 "nbformat": 4,
 "nbformat_minor": 5
}
