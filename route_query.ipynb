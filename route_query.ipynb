{
 "cells": [
  {
   "cell_type": "code",
   "execution_count": null,
   "id": "255f6fcf",
   "metadata": {},
   "outputs": [],
   "source": [
    "# Lang chain imports\n",
    "from langchain_openai import ChatOpenAI  \n",
    "from langchain.schema import HumanMessage, SystemMessage\n",
    "from dotenv import load_dotenv\n",
    "from pathlib import Path\n",
    "\n",
    "# Get API KEY\n",
    "import os\n",
    "\n",
    "load_dotenv()\n",
    "OPENAI_API_KEY = os.environ.get(\"OPENAI_API_KEY\")\n",
    "if not OPENAI_API_KEY:\n",
    "    print(\"OpenAI API Key not found\")\n",
    "\n",
    "# Import libraries\n",
    "import pandas as pd\n",
    "import numpy as np"
   ]
  },
  {
   "cell_type": "markdown",
   "id": "50ab179f",
   "metadata": {},
   "source": [
    "# **IMPORTING FEATURES**\n",
    "<hr>\n",
    "\n",
    "\n",
    "Import features from other notebooks using import_ipynb library"
   ]
  },
  {
   "cell_type": "code",
   "execution_count": 2,
   "id": "16a47f92",
   "metadata": {},
   "outputs": [],
   "source": [
    "# Import Features\n",
    "import import_ipynb\n",
    "from features.summaries import get_summaries\n",
    "from features.missing_vals import missing_vals"
   ]
  },
  {
   "cell_type": "code",
   "execution_count": 3,
   "id": "21b1d554",
   "metadata": {},
   "outputs": [],
   "source": [
    "# List features for agent \n",
    "features = \"\"\"\n",
    "Available features:\n",
    "- get_summaries(): data summaries, visualise data \n",
    "- missing_vals(): handling missing data, imputation recommendations\n",
    "\"\"\"\n",
    "# - handle_missing_vals(): imputation, missing values \n",
    "# - detect_outliers(): outliers"
   ]
  },
  {
   "cell_type": "markdown",
   "id": "81c2cb6d",
   "metadata": {},
   "source": [
    "# **QUERY ROUTER**\n",
    "<hr>\n",
    "\n",
    "The query router uses an LLM to process your query and pass it into your defined features"
   ]
  },
  {
   "cell_type": "code",
   "execution_count": 4,
   "id": "13291d04",
   "metadata": {},
   "outputs": [],
   "source": [
    "def route_query(user_query, df):\n",
    "    # Create message chain\n",
    "    messages = []\n",
    "    messages.append(SystemMessage(content=f\"\"\"\n",
    "    You are a data cleaning agent\n",
    "                                  \n",
    "    Dataset info: Shape: {df.shape}, Sample: {df.head(3).to_string()}\n",
    "\n",
    "    {features}\n",
    "\n",
    "    Rules:\n",
    "    - Each function takes (df, user_query) and returns modified df\n",
    "    - TRY TO HANDLE AS MANY QUERIES AS POSSIBLE DO WHAT USER ASKS YOU TO DO\n",
    "    - TRY TO HANDLE QUERIES BEFORE ROUTING (e.g. printing simple pandas code)\n",
    "    - Each function call should have a targeted query explaining exactly what to do\n",
    "    - Return only executable Python code, no explanations, NO MARKDOWN BLOCKS\n",
    "    - Only if no actions can be taken, print a descriptive message why\n",
    "    - In order to generate a response/message to the user use print statements\n",
    "    print(\"message\")\n",
    "    - ASSUME DF IS STORED IN DF\n",
    "\n",
    "    Examples:\n",
    "    HANDLE QUERIES  THROUGH FEATURES:\n",
    "    - User: Find outliers for price and stock, Generated: Single: df = detect_outliers(df, \"find outliers in price, stock\")\n",
    "    - User: Impute numeric columns and generate mean and std for age, Generated: df = missing_vals(df, \"impute numeric columns\"); df = get_summary(df, \"calculate mean and std for age\")\n",
    "    HANDLE QUERIES  WITHOUT FEATURES (THROUGH PANDAS):\n",
    "    - User: What object columns are still remaining, Generated: print(df.select_dtypes(include='object'))\n",
    "    - User: Print out the nuniques in each column, Generated: print([col,df[col].nunique() for col in df])\n",
    "    \"\"\"))\n",
    "    messages.append(HumanMessage(content=f\"User request: {user_query}\"))\n",
    "\n",
    "    # Call LLM\n",
    "    llm = ChatOpenAI(temperature=0, model_name=\"gpt-4o-mini\")\n",
    "    response = llm.invoke(messages)\n",
    "    generated_code = response.content.strip()\n",
    "\n",
    "    # Execute AI generated code\n",
    "    try:\n",
    "        original_df = df.copy()\n",
    "        exec(generated_code)\n",
    "        return df\n",
    "    except Exception as e:\n",
    "        print(f\"Error: {e}\")\n",
    "        print(f\"Generated Code:{generated_code}\")\n",
    "        return original_df"
   ]
  },
  {
   "cell_type": "markdown",
   "id": "5fc8cd25",
   "metadata": {},
   "source": [
    "# **TEST QUERIES**"
   ]
  },
  {
   "cell_type": "code",
   "execution_count": 5,
   "id": "a76adf7c",
   "metadata": {},
   "outputs": [],
   "source": [
    "# Enter CSV filename from \"datasets\" folder\n",
    "dataset_name = \"smoke.csv\"\n",
    "\n",
    "# Build CSV path (to avoid import errors)\n",
    "load_dotenv()\n",
    "PROJECT_ROOT = Path(os.environ[\"PROJECT_ROOT\"])\n",
    "path = PROJECT_ROOT / \"datasets\" / dataset_name\n",
    "\n",
    "df = pd.read_csv(path)\n",
    "test_df = df.copy()"
   ]
  },
  {
   "cell_type": "code",
   "execution_count": 6,
   "id": "0c70e3a9",
   "metadata": {},
   "outputs": [
    {
     "name": "stderr",
     "output_type": "stream",
     "text": [
      "C:\\Users\\tchan\\AppData\\Local\\Temp\\ipykernel_29708\\1049382173.py:33: LangChainDeprecationWarning: The class `ChatOpenAI` was deprecated in LangChain 0.0.10 and will be removed in 1.0. An updated version of the class exists in the :class:`~langchain-openai package and should be used instead. To use it run `pip install -U :class:`~langchain-openai` and import as `from :class:`~langchain_openai import ChatOpenAI``.\n",
      "  llm = ChatOpenAI(temperature=0, model_name=\"gpt-4o-mini\")\n"
     ]
    },
    {
     "name": "stdout",
     "output_type": "stream",
     "text": [
      "Please specify the formatting errors you would like to clean, such as inconsistent percentage formats or whitespace issues.\n"
     ]
    },
    {
     "data": {
      "application/vnd.microsoft.datawrangler.viewer.v0+json": {
       "columns": [
        {
         "name": "index",
         "rawType": "int64",
         "type": "integer"
        },
        {
         "name": "Year",
         "rawType": "int64",
         "type": "integer"
        },
        {
         "name": "State",
         "rawType": "object",
         "type": "string"
        },
        {
         "name": "Smoke everyday",
         "rawType": "object",
         "type": "string"
        },
        {
         "name": "Smoke some days",
         "rawType": "object",
         "type": "string"
        },
        {
         "name": "Former smoker",
         "rawType": "object",
         "type": "string"
        },
        {
         "name": "Never smoked",
         "rawType": "object",
         "type": "string"
        }
       ],
       "ref": "f4d5f259-5dc9-4bdc-adf4-229bcbea0f46",
       "rows": [
        [
         "0",
         "2010",
         "AL",
         "15.60%",
         "6.30%",
         "23.90%",
         "54.20%"
        ],
        [
         "1",
         "2010",
         "AK",
         "13.50%",
         "6.80%",
         "26.10%",
         "53.60%"
        ],
        [
         "2",
         "2010",
         "AZ",
         "10.70%",
         "4.40%",
         "27.90%",
         "57.10%"
        ],
        [
         "3",
         "2100",
         "Arkansas",
         "17.30%",
         "5.60%",
         "24.10%",
         "53%"
        ],
        [
         "4",
         "2010",
         "California",
         "7.50%",
         "4.60%",
         "23.10%",
         "64.80%"
        ],
        [
         "5",
         "2010",
         "Colorado",
         "11.40%",
         "4.60%",
         "24.70%",
         "59.30%"
        ],
        [
         "6",
         "2010",
         "Connecticut",
         "9.20%",
         "4%",
         "105.00%",
         "57.60%"
        ],
        [
         "7",
         "2010",
         "Delaware",
         "12.80%",
         "4.50%",
         "26.80%",
         "56%"
        ],
        [
         "8",
         "2010",
         "District of Columbia",
         "10%",
         "5.70%",
         "23.40%",
         "61%"
        ],
        [
         "9",
         "2010",
         "Florida",
         "12%",
         "5.20%",
         "29.80%",
         "53%"
        ],
        [
         "10",
         "2001",
         "Georgia",
         "12.80%",
         "4.80%",
         "23.10%",
         "59.30%"
        ],
        [
         "11",
         "2010",
         "Guam",
         "19.70%",
         "6.10%",
         "16.60%",
         "57.60%"
        ],
        [
         "12",
         "2010",
         "Hawaii",
         "10.70%",
         "3.80%",
         "25.30%",
         "60.20%"
        ],
        [
         "13",
         "2010",
         "Idaho",
         "11.30%",
         "4.40%",
         "22.90%",
         "61.50%"
        ],
        [
         "14",
         "2010",
         "Illinois",
         "11.50%",
         "5.40%",
         "twenty-three point 6 percent",
         "59.50%"
        ],
        [
         "15",
         "2010",
         "Indiana",
         "16.30%",
         "5%",
         "25.10%",
         "53.70%"
        ],
        [
         "16",
         "2010",
         "Iowa",
         "12.10%",
         "4.10%",
         "23.40%",
         "60.40%"
        ],
        [
         "17",
         "2010",
         "Kansas",
         "11.90%",
         "5.10%",
         "24.20%",
         "58.80%"
        ],
        [
         "18",
         "2010",
         "Kentucky",
         "19.30%",
         "5.50%",
         "26%",
         "49.20%"
        ],
        [
         "19",
         "2010",
         "Louisiana",
         "15.90%",
         "6.20%",
         "22%",
         "56%"
        ],
        [
         "20",
         "2010",
         "Maine",
         "13.90%",
         "4.30%",
         "30.20%",
         "51.60%"
        ],
        [
         "21",
         "2010",
         "Maryland",
         "10.50%",
         "4.70%",
         "23.90%",
         "60.90%"
        ],
        [
         "22",
         "2010",
         "Massachusetts",
         "10.20%",
         "3.90%",
         "29.30%",
         "56.60%"
        ],
        [
         "23",
         "2010",
         "Michigan",
         "13.50%",
         "5.40%",
         "25.30%",
         "55.70%"
        ],
        [
         "24",
         "2010",
         "Minnesota",
         "11.30%",
         "3.60%",
         "25.90%",
         "59.20%"
        ],
        [
         "25",
         "2010",
         "Mississippi",
         "17.10%",
         "5.80%",
         "22%",
         "55%"
        ],
        [
         "26",
         "2010",
         "Missouri",
         "16.60%",
         "4.40%",
         "26.10%",
         "52.80%"
        ],
        [
         "27",
         "2010",
         "Montana",
         "13.50%",
         "5.30%",
         "27.20%",
         "54%"
        ],
        [
         "28",
         "2010",
         "Nationwide (States and DC)",
         "12.40%",
         "4.80%",
         "25.10%",
         "56.60%"
        ],
        [
         "29",
         "2010",
         "Nationwide (States, DC, and Territories)",
         "12.30%",
         "4.80%",
         "24.70%",
         "56.80%"
        ],
        [
         "30",
         "2010",
         "Nebraska",
         "12.50%",
         "4.70%",
         "25.20%",
         "57.60%"
        ],
        [
         "31",
         "2010",
         "Nevada",
         "16.50%",
         "4.90%",
         "25.80%",
         "52.80%"
        ],
        [
         "32",
         "2010",
         "New Hampshire",
         "12.40%",
         "4.50%",
         "30.70%",
         "52.40%"
        ],
        [
         "33",
         "2010",
         "New Jersey",
         "10.20%",
         "4.20%",
         "26.10%",
         "59.40%"
        ],
        [
         "34",
         "2010",
         "New Mexico",
         "11.40%",
         "7.10%",
         "24.70%",
         "56.90%"
        ],
        [
         "35",
         "2010",
         "New York",
         "10.50%",
         "5%",
         "26.80%",
         "57.80%"
        ],
        [
         "36",
         "2010",
         "North Carolina",
         "14.30%",
         "5.40%",
         "24.50%",
         "55.80%"
        ],
        [
         "37",
         "2010",
         "North Dakota",
         "12.20%",
         "5.10%",
         "24.10%",
         "58.60%"
        ],
        [
         "38",
         "2010",
         "Ohio",
         "17.10%",
         "5.40%",
         "24.60%",
         "52.90%"
        ],
        [
         "39",
         "2010",
         "Oklahoma",
         "17.50%",
         "6.20%",
         "24.30%",
         "52%"
        ],
        [
         "40",
         "2010",
         "Oregon",
         "11%",
         "4.10%",
         "28.20%",
         "56.70%"
        ],
        [
         "41",
         "2010",
         "Pennsylvania",
         "13.40%",
         "5%",
         "26.20%",
         "55.40%"
        ],
        [
         "42",
         "2010",
         "Puerto Rico",
         "7.50%",
         "4.40%",
         "17.30%",
         "70.80%"
        ],
        [
         "43",
         "2010",
         "Rhode Island",
         "10.90%",
         "4.80%",
         "28.40%",
         "55.90%"
        ],
        [
         "44",
         "2010",
         "South Carolina",
         "14%",
         "7%",
         "24.10%",
         "54.90%"
        ],
        [
         "45",
         "2010",
         "South Dakota",
         "11.30%",
         "4.10%",
         "27%",
         "57.60%"
        ],
        [
         "46",
         "2010",
         "Tennessee",
         "15.70%",
         "4.40%",
         "22.90%",
         "57%"
        ],
        [
         "47",
         "2010",
         "Texas",
         "10.50%",
         "5.30%",
         "21.30%",
         "62.90%"
        ],
        [
         "48",
         "2010",
         "Utah",
         "6.40%",
         "2.70%",
         "14.30%",
         "76.60%"
        ],
        [
         "49",
         "2010",
         "Vermont",
         "11.10%",
         "4.20%",
         "30.70%",
         "54%"
        ]
       ],
       "shape": {
        "columns": 6,
        "rows": 876
       }
      },
      "text/html": [
       "<div>\n",
       "<style scoped>\n",
       "    .dataframe tbody tr th:only-of-type {\n",
       "        vertical-align: middle;\n",
       "    }\n",
       "\n",
       "    .dataframe tbody tr th {\n",
       "        vertical-align: top;\n",
       "    }\n",
       "\n",
       "    .dataframe thead th {\n",
       "        text-align: right;\n",
       "    }\n",
       "</style>\n",
       "<table border=\"1\" class=\"dataframe\">\n",
       "  <thead>\n",
       "    <tr style=\"text-align: right;\">\n",
       "      <th></th>\n",
       "      <th>Year</th>\n",
       "      <th>State</th>\n",
       "      <th>Smoke everyday</th>\n",
       "      <th>Smoke some days</th>\n",
       "      <th>Former smoker</th>\n",
       "      <th>Never smoked</th>\n",
       "    </tr>\n",
       "  </thead>\n",
       "  <tbody>\n",
       "    <tr>\n",
       "      <th>0</th>\n",
       "      <td>2010</td>\n",
       "      <td>AL</td>\n",
       "      <td>15.60%</td>\n",
       "      <td>6.30%</td>\n",
       "      <td>23.90%</td>\n",
       "      <td>54.20%</td>\n",
       "    </tr>\n",
       "    <tr>\n",
       "      <th>1</th>\n",
       "      <td>2010</td>\n",
       "      <td>AK</td>\n",
       "      <td>13.50%</td>\n",
       "      <td>6.80%</td>\n",
       "      <td>26.10%</td>\n",
       "      <td>53.60%</td>\n",
       "    </tr>\n",
       "    <tr>\n",
       "      <th>2</th>\n",
       "      <td>2010</td>\n",
       "      <td>AZ</td>\n",
       "      <td>10.70%</td>\n",
       "      <td>4.40%</td>\n",
       "      <td>27.90%</td>\n",
       "      <td>57.10%</td>\n",
       "    </tr>\n",
       "    <tr>\n",
       "      <th>3</th>\n",
       "      <td>2100</td>\n",
       "      <td>Arkansas</td>\n",
       "      <td>17.30%</td>\n",
       "      <td>5.60%</td>\n",
       "      <td>24.10%</td>\n",
       "      <td>53%</td>\n",
       "    </tr>\n",
       "    <tr>\n",
       "      <th>4</th>\n",
       "      <td>2010</td>\n",
       "      <td>California</td>\n",
       "      <td>7.50%</td>\n",
       "      <td>4.60%</td>\n",
       "      <td>23.10%</td>\n",
       "      <td>64.80%</td>\n",
       "    </tr>\n",
       "    <tr>\n",
       "      <th>...</th>\n",
       "      <td>...</td>\n",
       "      <td>...</td>\n",
       "      <td>...</td>\n",
       "      <td>...</td>\n",
       "      <td>...</td>\n",
       "      <td>...</td>\n",
       "    </tr>\n",
       "    <tr>\n",
       "      <th>871</th>\n",
       "      <td>1995</td>\n",
       "      <td>Virginia</td>\n",
       "      <td>18.70%</td>\n",
       "      <td>2.70%</td>\n",
       "      <td>25.20%</td>\n",
       "      <td>53.50%</td>\n",
       "    </tr>\n",
       "    <tr>\n",
       "      <th>872</th>\n",
       "      <td>1995</td>\n",
       "      <td>Washington</td>\n",
       "      <td>17.50%</td>\n",
       "      <td>2.40%</td>\n",
       "      <td>29.90%</td>\n",
       "      <td>50.20%</td>\n",
       "    </tr>\n",
       "    <tr>\n",
       "      <th>873</th>\n",
       "      <td>1995</td>\n",
       "      <td>West Virginia</td>\n",
       "      <td>23.70%</td>\n",
       "      <td>1.90%</td>\n",
       "      <td>23.30%</td>\n",
       "      <td>51.10%</td>\n",
       "    </tr>\n",
       "    <tr>\n",
       "      <th>874</th>\n",
       "      <td>1995</td>\n",
       "      <td>Wisconsin</td>\n",
       "      <td>18.20%</td>\n",
       "      <td>3.50%</td>\n",
       "      <td>27.60%</td>\n",
       "      <td>50.70%</td>\n",
       "    </tr>\n",
       "    <tr>\n",
       "      <th>875</th>\n",
       "      <td>1995</td>\n",
       "      <td>Wyoming</td>\n",
       "      <td>19.10%</td>\n",
       "      <td>2.90%</td>\n",
       "      <td>26.80%</td>\n",
       "      <td>51.20%</td>\n",
       "    </tr>\n",
       "  </tbody>\n",
       "</table>\n",
       "<p>876 rows × 6 columns</p>\n",
       "</div>"
      ],
      "text/plain": [
       "     Year          State Smoke everyday Smoke some days Former smoker  \\\n",
       "0    2010             AL         15.60%           6.30%        23.90%   \n",
       "1    2010             AK         13.50%           6.80%        26.10%   \n",
       "2    2010             AZ         10.70%           4.40%        27.90%   \n",
       "3    2100       Arkansas         17.30%           5.60%        24.10%   \n",
       "4    2010     California          7.50%           4.60%        23.10%   \n",
       "..    ...            ...            ...             ...           ...   \n",
       "871  1995       Virginia         18.70%           2.70%        25.20%   \n",
       "872  1995     Washington         17.50%           2.40%        29.90%   \n",
       "873  1995  West Virginia         23.70%           1.90%        23.30%   \n",
       "874  1995      Wisconsin         18.20%           3.50%        27.60%   \n",
       "875  1995        Wyoming         19.10%           2.90%        26.80%   \n",
       "\n",
       "    Never smoked  \n",
       "0         54.20%  \n",
       "1         53.60%  \n",
       "2         57.10%  \n",
       "3            53%  \n",
       "4         64.80%  \n",
       "..           ...  \n",
       "871       53.50%  \n",
       "872       50.20%  \n",
       "873       51.10%  \n",
       "874       50.70%  \n",
       "875       51.20%  \n",
       "\n",
       "[876 rows x 6 columns]"
      ]
     },
     "execution_count": 6,
     "metadata": {},
     "output_type": "execute_result"
    }
   ],
   "source": [
    "user_query = \"Help me clean formatting errors\"\n",
    "\n",
    "# comment when importing from main\n",
    "route_query(user_query, df) "
   ]
  }
 ],
 "metadata": {
  "kernelspec": {
   "display_name": "data-cleaning-agent",
   "language": "python",
   "name": "python3"
  },
  "language_info": {
   "codemirror_mode": {
    "name": "ipython",
    "version": 3
   },
   "file_extension": ".py",
   "mimetype": "text/x-python",
   "name": "python",
   "nbconvert_exporter": "python",
   "pygments_lexer": "ipython3",
   "version": "3.11.13"
  }
 },
 "nbformat": 4,
 "nbformat_minor": 5
}
