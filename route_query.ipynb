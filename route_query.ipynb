{
 "cells": [
  {
   "cell_type": "code",
   "execution_count": 58,
   "id": "255f6fcf",
   "metadata": {},
   "outputs": [],
   "source": [
    "# Lang chain imports\n",
    "from langchain.chat_models import ChatOpenAI  \n",
    "from langchain.schema import HumanMessage, SystemMessage\n",
    "from dotenv import load_dotenv\n",
    "from pathlib import Path\n",
    "\n",
    "# Get API KEY\n",
    "import os\n",
    "\n",
    "load_dotenv()\n",
    "OPENAI_API_KEY = os.environ.get(\"OPENAI_API_KEY\")\n",
    "if not OPENAI_API_KEY:\n",
    "    print(\"OpenAI API Key not found\")\n",
    "\n",
    "# Import libraries\n",
    "import pandas as pd\n",
    "import numpy as np"
   ]
  },
  {
   "cell_type": "markdown",
   "id": "50ab179f",
   "metadata": {},
   "source": [
    "# **IMPORTING FEATURES**\n",
    "<hr>\n",
    "\n",
    "\n",
    "Import features from other notebooks using import_ipynb library"
   ]
  },
  {
   "cell_type": "code",
   "execution_count": 68,
   "id": "16a47f92",
   "metadata": {},
   "outputs": [],
   "source": [
    "# Import Features\n",
    "import import_ipynb\n",
    "from features.summaries import get_summaries\n",
    "from features.missing_vals import missing_vals"
   ]
  },
  {
   "cell_type": "code",
   "execution_count": 24,
   "id": "21b1d554",
   "metadata": {},
   "outputs": [],
   "source": [
    "# List features for agent \n",
    "features = \"\"\"\n",
    "Available features:\n",
    "- get_summaries(): data summaries, visualise data \n",
    "- missing_vals(): handling missing data, imputation recommendations\n",
    "\"\"\"\n",
    "# - handle_missing_vals(): imputation, missing values \n",
    "# - detect_outliers(): outliers"
   ]
  },
  {
   "cell_type": "markdown",
   "id": "81c2cb6d",
   "metadata": {},
   "source": [
    "# **QUERY ROUTER**\n",
    "<hr>\n",
    "\n",
    "The query router uses an LLM to process your query and pass it into your defined features"
   ]
  },
  {
   "cell_type": "code",
   "execution_count": 2,
   "id": "13291d04",
   "metadata": {},
   "outputs": [],
   "source": [
    "def route_query(user_query, df):\n",
    "    # Create message chain\n",
    "    messages = []\n",
    "    messages.append(SystemMessage(content=f\"\"\"\n",
    "    You are a data cleaning agent\n",
    "                                  \n",
    "    Dataset info: Shape: {df.shape}, Sample: {df.head(3).to_string()}\n",
    "\n",
    "    {features}\n",
    "\n",
    "    Rules:\n",
    "    - Each function takes (df, user_query) and returns modified df\n",
    "    - TRY TO HANDLE AS MANY QUERIES AS POSSIBLE DO WHAT USER ASKS YOU TO DO\n",
    "    - TRY TO HANDLE QUERIES BEFORE ROUTING (e.g. printing simple pandas code)\n",
    "    - Each function call should have a targeted query explaining exactly what to do\n",
    "    - Return only executable Python code, no explanations, NO MARKDOWN BLOCKS\n",
    "    - Only if no actions can be taken, print a descriptive message why\n",
    "    - In order to generate a response/message to the user use print statements\n",
    "    print(\"message\")\n",
    "    - ASSUME DF IS STORED IN DF\n",
    "\n",
    "    Examples:\n",
    "    HANDLE QUERIES  THROUGH FEATURES:\n",
    "    - User: Find outliers for price and stock, Generated: Single: df = detect_outliers(df, \"find outliers in price, stock\")\n",
    "    - User: Impute numeric columns and generate mean and std for age, Generated: df = missing_vals(df, \"impute numeric columns\"); df = get_summary(df, \"calculate mean and std for age\")\n",
    "    HANDLE QUERIES  WITHOUT FEATURES (THROUGH PANDAS):\n",
    "    - User: What object columns are still remaining, Generated: print(df.select_dtypes(include='object'))\n",
    "    - User: Print out the nuniques in each column, Generated: print([col,df[col].nunique() for col in df])\n",
    "    \"\"\"))\n",
    "    messages.append(HumanMessage(content=f\"User request: {user_query}\"))\n",
    "\n",
    "    # Call LLM\n",
    "    llm = ChatOpenAI(temperature=0, model_name=\"gpt-4o-mini\")\n",
    "    response = llm.invoke(messages)\n",
    "    generated_code = response.content.strip()\n",
    "\n",
    "    # Execute AI generated code\n",
    "    try:\n",
    "        original_df = df.copy()\n",
    "        exec(generated_code)\n",
    "        return df\n",
    "    except Exception as e:\n",
    "        print(f\"Error: {e}\")\n",
    "        print(f\"Generated Code:{generated_code}\")\n",
    "        return original_df"
   ]
  },
  {
   "cell_type": "markdown",
   "id": "5fc8cd25",
   "metadata": {},
   "source": [
    "# **TEST QUERIES**"
   ]
  },
  {
   "cell_type": "code",
   "execution_count": 69,
   "id": "a76adf7c",
   "metadata": {},
   "outputs": [],
   "source": [
    "# Enter CSV filename from \"datasets\" folder\n",
    "dataset_name = \"smoke.csv\"\n",
    "\n",
    "# Build CSV path (to avoid import errors)\n",
    "load_dotenv()\n",
    "PROJECT_ROOT = Path(os.environ[\"PROJECT_ROOT\"])\n",
    "path = PROJECT_ROOT / \"datasets\" / dataset_name\n",
    "\n",
    "df = pd.read_csv(path)\n",
    "test_df = df.copy()"
   ]
  },
  {
   "cell_type": "code",
   "execution_count": 70,
   "id": "0c70e3a9",
   "metadata": {},
   "outputs": [],
   "source": [
    "user_query = \"Help me clean formatting errors\"\n",
    "\n",
    "# comment when importing from main\n",
    "# route_query(user_query, df) "
   ]
  }
 ],
 "metadata": {
  "kernelspec": {
   "display_name": "data-cleaning-agent",
   "language": "python",
   "name": "python3"
  },
  "language_info": {
   "codemirror_mode": {
    "name": "ipython",
    "version": 3
   },
   "file_extension": ".py",
   "mimetype": "text/x-python",
   "name": "python",
   "nbconvert_exporter": "python",
   "pygments_lexer": "ipython3",
   "version": "3.11.13"
  }
 },
 "nbformat": 4,
 "nbformat_minor": 5
}
